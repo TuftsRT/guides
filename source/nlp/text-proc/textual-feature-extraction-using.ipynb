{
 "cells": [
  {
   "cell_type": "code",
   "execution_count": null,
   "metadata": {},
   "outputs": [],
   "source": [
    "!wget https://tufts.box.com/shared/static/325sgkodnq30ez61ugazvctif6r24hsu.csv -O daf.csv -q"
   ]
  },
  {
   "cell_type": "markdown",
   "metadata": {},
   "source": [
    "# Textual Feature Extraction using Traditional Machine Learning\n",
    "In this workshop, we are going to learn how to conduct feature extraction on text using `sci-kit learn`.\n",
    "\n",
    "First, what is feature extraction? **Feature extraction or vectorization is any process by which we can convert raw data into a format that can be understood by a computer.** Text is not consistent in format, meaning that, unlike an image, there is no single format that all documents come in. Usually, each sentence is a different length and could be made up of specialized terminology. As a result, feature extraction allows us to standardize textual inputs so that they can be used for a variety of tasks. For example, in the `Traditional Topic Modeling in SKLearn` workshop, I use these features to extract topics from a text.\n",
    "\n",
    "In this notebook, we'll look at two different algorithms that are commonly used for textual feature extraction:\n",
    "*   Count Vectorization\n",
    "*   Term frequency - inverse document frequency (TF-IDF) vectorization\n",
    "\n",
    "\n",
    "But before we can look at these, we'll look at the simplest type of feature extraction: the so-called 'bag of words' approach.\n"
   ]
  },
  {
   "cell_type": "markdown",
   "metadata": {},
   "source": [
    "## Imports and data\n",
    "\n",
    "For this example, we'll be using Edward Gibbon's *Decline and Fall of the Roman Empire*. This text is really long so it will be a good example of a lot of the problems that pop up in NLP."
   ]
  },
  {
   "cell_type": "code",
   "execution_count": null,
   "metadata": {},
   "outputs": [],
   "source": [
    "import pandas as pd\n",
    "\n",
    "daf = pd.read_csv(\"daf.csv\")[[\"title\", \"text\"]]\n",
    "daf.head()"
   ]
  },
  {
   "cell_type": "code",
   "execution_count": null,
   "metadata": {},
   "outputs": [],
   "source": [
    "text = \" \".join(daf.text).lower()\n",
    "text[:1001]"
   ]
  },
  {
   "cell_type": "markdown",
   "metadata": {},
   "source": [
    "## Bag of Words\n",
    "The Bag of Words approach consists simply in counting individual word occurrence. But walking through this process will teach us about NLP fundamentals that carry over into the more advanced methods."
   ]
  },
  {
   "cell_type": "markdown",
   "metadata": {},
   "source": [
    "### Tokenization\n",
    "\n",
    "Before we can count words, we need to decide what constitutes a word and then split our text up by word. This process is called **tokenization** and is very important at all levels of NLP. There are many different types of tokenizers, but for this example we'll use the simplest one from the Natural Language Toolkit (`nltk`)."
   ]
  },
  {
   "cell_type": "code",
   "execution_count": null,
   "metadata": {},
   "outputs": [],
   "source": [
    "import nltk\n",
    "\n",
    "nltk.download(\"punkt\")\n",
    "\n",
    "from nltk.tokenize import word_tokenize\n",
    "\n",
    "tokens = word_tokenize(daf.iloc[1].text)\n",
    "tokens[:10]"
   ]
  },
  {
   "cell_type": "code",
   "execution_count": null,
   "metadata": {},
   "outputs": [],
   "source": [
    "words = [word for word in word_tokenize(text) if word.isalpha()]\n",
    "# word.isalpha returns True is a word is made up of only alphabet characters and not numbers or spaces\n",
    "words[:10]"
   ]
  },
  {
   "cell_type": "markdown",
   "metadata": {},
   "source": [
    "### Counting words\n",
    "Now that we've split the text into words, we can count them. I'll show three ways to do it, but they will all return the same result. I only do so to show you how easy it is to do this task in Python.\n",
    "\n",
    "Each one follows the same algorithm:\n",
    "\n",
    "1.   Create an empty data structure to hold the frequencies\n",
    "2.   Loop through all words\n",
    "3.   If we see a word that is in in our data structure already, increment the associated frequency by 1\n",
    "4.   If we see a word that is NOT in our data structure already, add the word and set its value to 1\n",
    "\n",
    "\n"
   ]
  },
  {
   "cell_type": "code",
   "execution_count": null,
   "metadata": {},
   "outputs": [],
   "source": [
    "# longest version\n",
    "counts = {}  # data structure\n",
    "for word in words:  # looping through all words\n",
    "    if word in counts:  # if the word is already in our data structure\n",
    "        counts[word] += 1  # increment by 1\n",
    "    else:\n",
    "        counts[word] = 1  # set as 1\n",
    "\n",
    "counts = sorted(counts.items(), key=lambda x: x[1], reverse=True)  # dictionary sorting\n",
    "counts[:10]"
   ]
  },
  {
   "cell_type": "code",
   "execution_count": null,
   "metadata": {},
   "outputs": [],
   "source": [
    "# shorter version\n",
    "import collections\n",
    "\n",
    "counts = collections.defaultdict(int)  # data structure\n",
    "for word in words:  # looping through all words\n",
    "    counts[word] += 1  # increment by 1\n",
    "\n",
    "counts = sorted(counts.items(), key=lambda x: x[1], reverse=True)\n",
    "counts[:10]"
   ]
  },
  {
   "cell_type": "code",
   "execution_count": null,
   "metadata": {},
   "outputs": [],
   "source": [
    "# shortest version\n",
    "counts = collections.Counter(words)\n",
    "counts.most_common(10)"
   ]
  },
  {
   "cell_type": "markdown",
   "metadata": {},
   "source": [
    "#### Removing stop words\n",
    "\n",
    "As you see above, the most common words in this text are not very expressive of the content of the text. Rather they are just the most common words in the English language. These words are sometimes called 'stop words' and, when using word frequency, it is common to remove them.\n",
    "\n",
    "For this example, we'll use `nltk`'s stop words list. See below for the whole list."
   ]
  },
  {
   "cell_type": "code",
   "execution_count": null,
   "metadata": {},
   "outputs": [],
   "source": [
    "from nltk.corpus import stopwords\n",
    "\n",
    "nltk.download(\"stopwords\")\n",
    "print(stopwords.words(\"english\"))"
   ]
  },
  {
   "cell_type": "code",
   "execution_count": null,
   "metadata": {},
   "outputs": [],
   "source": [
    "# an example\n",
    "[\n",
    "    word\n",
    "    for word in word_tokenize(daf.iloc[0].text.lower())\n",
    "    if word.isalpha() and word not in stopwords.words(\"english\")\n",
    "][:10]"
   ]
  },
  {
   "cell_type": "markdown",
   "metadata": {},
   "source": [
    "#### Counting words without stop words"
   ]
  },
  {
   "cell_type": "code",
   "execution_count": null,
   "metadata": {},
   "outputs": [],
   "source": [
    "import collections\n",
    "\n",
    "counts = collections.defaultdict(int)  # data structure\n",
    "\n",
    "stop_words = stopwords.words(\"english\")  # list of stop words\n",
    "for word in words:  # looping through all words\n",
    "    if word not in stop_words:  # if the word is not in stop words list\n",
    "        counts[word] += 1  # increment by 1\n",
    "\n",
    "counts = sorted(counts.items(), key=lambda x: x[1], reverse=True)\n",
    "counts[:10]"
   ]
  },
  {
   "cell_type": "markdown",
   "metadata": {},
   "source": [
    "## Count Vectorization\n",
    "\n",
    "The bag of words model of feature extraction is straightforward and easy to understand but it is limited. We would prefer a single class that could do all of the above steps in a efficient and fast way. Thankfully, `sci-kit learn` provides this in the `CounterVectorizer`.\n",
    "\n",
    "`CountVectorizer` will take each document in our corpus (each chapter, before we were just joining them all together) and convert it into an array of ones and zeros. See the example below."
   ]
  },
  {
   "cell_type": "code",
   "execution_count": null,
   "metadata": {},
   "outputs": [],
   "source": [
    "from sklearn.feature_extraction.text import CountVectorizer\n",
    "\n",
    "vectorizer = CountVectorizer()  # initialize the class\n",
    "\n",
    "# taken from: https://scikit-learn.org/stable/modules/feature_extraction.html#common-vectorizer-usage\n",
    "corpus = [\n",
    "    \"This is the first document.\",\n",
    "    \"This is the second second document.\",\n",
    "    \"And the third one.\",\n",
    "    \"Is this the first document?\",\n",
    "]\n",
    "\n",
    "X = vectorizer.fit_transform(corpus)\n",
    "X.shape  # number of documents by number of unique words"
   ]
  },
  {
   "cell_type": "code",
   "execution_count": null,
   "metadata": {},
   "outputs": [],
   "source": [
    "pd.DataFrame(\n",
    "    X.toarray(), columns=vectorizer.get_feature_names_out()\n",
    ")  # document-term matrix or dtm"
   ]
  },
  {
   "cell_type": "markdown",
   "metadata": {},
   "source": [
    "As we see above, each unique word in the corpus is made into a column. Within each cell, then, the count of how many times that word occurs in that document is recorded. This makes it so that each sentence now has a consistent shape and it's one that's a bit more verbose than just a single number, while at the same time representing the same information as the bag of words model. See below how we can apply this to the large text."
   ]
  },
  {
   "cell_type": "code",
   "execution_count": null,
   "metadata": {},
   "outputs": [],
   "source": [
    "from sklearn.feature_extraction.text import CountVectorizer\n",
    "\n",
    "vectorizer = CountVectorizer(stop_words=stop_words)\n",
    "X = vectorizer.fit_transform(daf.text)\n",
    "X.shape  # number of documents by number of unique words"
   ]
  },
  {
   "cell_type": "code",
   "execution_count": null,
   "metadata": {},
   "outputs": [],
   "source": [
    "# most of our entries are 0\n",
    "# we call this a 'sparse' matrix\n",
    "cv = pd.DataFrame(X.toarray(), columns=vectorizer.get_feature_names_out())\n",
    "cv"
   ]
  },
  {
   "cell_type": "code",
   "execution_count": null,
   "metadata": {},
   "outputs": [],
   "source": [
    "cv[\"empire\"].to_numpy()"
   ]
  },
  {
   "cell_type": "code",
   "execution_count": null,
   "metadata": {},
   "outputs": [],
   "source": [
    "# we can recreate the same results as above but now on the basis of each document\n",
    "# results vary slightly because of how sklearn tokenizes their text\n",
    "sorted(cv.sum(axis=0).to_dict().items(), key=lambda x: x[1], reverse=True)[:10]"
   ]
  },
  {
   "cell_type": "markdown",
   "metadata": {},
   "source": [
    "## Term frequency - inverse document frequency (TF-IDF)\n",
    "\n",
    "A final alteration we can make to this counter is **normalizing** the counts by the number of times that word occurs. **Normalization** is any mathematical transformation we make to a number that will make it more normal or regular.\n",
    "In this case, someone could argue: \"'might' occurs so many times not because it's important but rather because it is a word that has several meanings and is therefore used more often than words with only one meaning.\"\n",
    "\n",
    "That's where TF-IDF comes in. This normalization technique is the product of two statistics: term frequency and inverse document frequency.\n",
    "\n",
    "*   The first is a count of how many times a term occurs in a document (which is what we have in the `CounterVectorizer` above) divided by the total number of words in the document. Given a term $t$ and a document $d$, term frequency $\\mathrm{tf}(t,d)$  is defined as: $\\mathrm {tf} (t,d)={\\frac {f_{t,d}}{\\sum _{t'\\in d}{f_{t',d}}}}$.\n",
    "*   The second responds directly to the objection above. It is a measure of the importance of the term in the context of the rest of the documents, determining whether this term is rare or common. It is obtained by dividing the total number of documents $N$ by the number of documents containing the term $|\\{d \\in D: t \\in d\\}|$, where $d$ is a document in our documents $D$ and $t$ is any term in document $d$. This inverse document frequency is defined as $\\mathrm{idf}(t, D) = \\frac{N}{|\\{d \\in D: t \\in d\\}|}$.\n",
    "\n",
    "Thus TF-IDF takes the form: $\\mathrm{tfidf} = \\mathrm {tf} \\cdot \\mathrm {idf}$. In practice, log normalization (taking the natural log) is applied to both parts of TF-IDF. Below we'll see how to use `sci-kit learn` to implement TF-IDF.\n"
   ]
  },
  {
   "cell_type": "code",
   "execution_count": null,
   "metadata": {},
   "outputs": [],
   "source": [
    "from sklearn.feature_extraction.text import TfidfVectorizer\n",
    "\n",
    "vectorizer = TfidfVectorizer(stop_words=stop_words)\n",
    "X = vectorizer.fit_transform(daf.text)  # this is called the document-term matrix\n",
    "X.shape  # number of documents by number of unique words"
   ]
  },
  {
   "cell_type": "code",
   "execution_count": null,
   "metadata": {},
   "outputs": [],
   "source": [
    "# now all of the zeros are decimals\n",
    "tfidf = pd.DataFrame(X.toarray(), columns=vectorizer.get_feature_names_out())\n",
    "tfidf"
   ]
  },
  {
   "cell_type": "code",
   "execution_count": null,
   "metadata": {},
   "outputs": [],
   "source": [
    "# a single column\n",
    "# this single column represents the tf-idf score for the word 'Rome' in each chapter\n",
    "tfidf[\"rome\"]"
   ]
  },
  {
   "cell_type": "markdown",
   "metadata": {},
   "source": [
    "## What can you do with TF-IDF?\n",
    "\n",
    "There are many applications for TF-IDF (be sure to check out the `Traditional Topic Modeling in SKLearn` workshop). Here we'll do some document comparison. Because we now have a 13035 long vector representing each chapter, we can compare them to each other to find chapters that have similar word usage.\n",
    "\n",
    "If we have two vectors, we can compare them using the dot product. For the two vectors $A = \\begin{bmatrix} a_1 & a_2 & a_3 \\end{bmatrix}$ and $B = \\begin{bmatrix} b_1 & b_2 & b_3 \\end{bmatrix}$, $A \\cdot B = (a_1)(b_1) + (a_2)(b_2) + (a_3)(b_3)$. If we then scale this value by the product of the magnitudes of $A$ and $B$, we are guaranteed to get back a number that is between -1 and 1. This is often called **cosine similarity** and is used frequently to compare vectors in NLP. A score of exactly 1 means that the two vectors are the same, whereas a score of -1 means that the vectors have the same magnitude but are pointing in opposite directions. See the implementation below."
   ]
  },
  {
   "cell_type": "code",
   "execution_count": null,
   "metadata": {},
   "outputs": [],
   "source": [
    "import numpy as np\n",
    "\n",
    "ch1 = X.toarray()[0]  # chapter 1\n",
    "ch2 = X.toarray()[1]  # chapter 2\n",
    "\n",
    "# cosine similarity\n",
    "np.dot(ch1, ch2) / (\n",
    "    np.linalg.norm(ch1) * np.linalg.norm(ch2)\n",
    ")  # np.linalg.norm returns the magnitude of a vector"
   ]
  },
  {
   "cell_type": "code",
   "execution_count": null,
   "metadata": {},
   "outputs": [],
   "source": [
    "def docsim(id1, id2):\n",
    "    ch1 = X.toarray()[id1]\n",
    "    ch2 = X.toarray()[id2]\n",
    "    return np.dot(ch1, ch2) / (np.linalg.norm(ch1) * np.linalg.norm(ch2))"
   ]
  },
  {
   "cell_type": "code",
   "execution_count": null,
   "metadata": {},
   "outputs": [],
   "source": [
    "for i in range(len(daf[:50])):\n",
    "    print(f\"Chapter 1 compared with Chapter {i+1}: {docsim(0, i)}\")"
   ]
  },
  {
   "cell_type": "code",
   "execution_count": null,
   "metadata": {},
   "outputs": [],
   "source": [
    "import matplotlib.pyplot as plt\n",
    "\n",
    "# this will take some time (~1 min)\n",
    "ch1_sims = [\n",
    "    docsim(0, i) for i in range(1, len(daf[1:]) + 1)\n",
    "]  # remove the first chapter"
   ]
  },
  {
   "cell_type": "code",
   "execution_count": null,
   "metadata": {},
   "outputs": [],
   "source": [
    "# plotting\n",
    "# similarity goes down over the whole book, as we might expect\n",
    "plt.plot(ch1_sims)\n",
    "plt.title(\"Chapter 1 similarity\")\n",
    "plt.xlabel(\"Chapter\")\n",
    "plt.ylabel(\"Similarity\")\n",
    "plt.show()"
   ]
  },
  {
   "cell_type": "code",
   "execution_count": null,
   "metadata": {},
   "outputs": [],
   "source": [
    "from sklearn.linear_model import LinearRegression\n",
    "\n",
    "x = np.array(range(1, len(daf[1:]) + 1))\n",
    "y = np.array(ch1_sims)\n",
    "X = x[:, np.newaxis]  # add bias term\n",
    "reg = LinearRegression().fit(X, ch1_sims)\n",
    "r = reg.score(X, y)\n",
    "m = reg.coef_[0]\n",
    "b = reg.intercept_"
   ]
  },
  {
   "cell_type": "code",
   "execution_count": null,
   "metadata": {},
   "outputs": [],
   "source": [
    "# plot with regression line\n",
    "plt.scatter(x, ch1_sims)\n",
    "plt.plot(\n",
    "    m * X + b,\n",
    "    label=f\"$y={round(m,4)}x + {round(b,4)}$ with $r = {round(r,4)}$\",\n",
    "    color=\"red\",\n",
    ")\n",
    "plt.title(\"Chapter 1 similarity\")\n",
    "plt.xlabel(\"Chapter\")\n",
    "plt.ylabel(\"Similarity\")\n",
    "plt.legend(fontsize=9)\n",
    "plt.show()"
   ]
  },
  {
   "cell_type": "markdown",
   "metadata": {},
   "source": [
    "The above plot shows us that as we read through the text chronologically, we see content that becomes more and more different from the first chapter. Specifically, the word usage throughout the rest of the book different significantly from the word usage of the first chapter. This plot also helps us identitfy places where this trend may not be completely true. For instance, we see a cluster in the 150s and 200s of chapters that have a higher similarity score than the chapters around them. We could select this points and investigate further.\n",
    "\n",
    "All of this would not have been possible without vectorizing our text. As a result, feature extraction is usually the first step in any NLP model, like we've made above. There are more advanced ways of doing it, but TF-IDF has stood the test of time and is still used today."
   ]
  }
 ],
 "metadata": {
  "colab": {
   "provenance": []
  },
  "kernelspec": {
   "display_name": "Python 3",
   "name": "python3"
  },
  "language_info": {
   "name": "python"
  }
 },
 "nbformat": 4,
 "nbformat_minor": 0
}
