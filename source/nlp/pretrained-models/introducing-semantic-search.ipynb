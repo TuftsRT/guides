{
 "cells": [
  {
   "cell_type": "code",
   "execution_count": null,
   "metadata": {},
   "outputs": [],
   "source": [
    "!pip install sentence_transformers plotly -Uq\n",
    "!pip install llama-cpp-python \\\n",
    "  --extra-index-url https://abetlen.github.io/llama-cpp-python/whl/cu122 -Uq\n",
    "!wget https://tufts.box.com/shared/static/325sgkodnq30ez61ugazvctif6r24hsu.csv -O daf.csv"
   ]
  },
  {
   "cell_type": "markdown",
   "metadata": {},
   "source": [
    "# Introducing Semantic Search\n",
    "\n",
    "Information retrieval is a large and complicated field. In this notebook, we'll look at the steps involved in a specific information retrieval algorithm called \"semantic search,\" which employs a language model to compare the similarity of a search query to chunks of original data. The steps are as follows:\n",
    "\n",
    "* Load our model\n",
    "* Read in and chunk our data\n",
    "* Embed the chunks\n",
    "* Take in and embed our user query\n",
    "* Take the dot product between our user query and our document embeddings\n",
    "* Align relevant indices with original chunked data\n",
    "* Return chunks to the user or another process\n",
    "\n",
    "At the end of the notebook, we'll pass this information that we retrieved to an LLM and complete a process called Retrieval Augmented Generation (RAG).\n",
    "\n",
    "## Some key concepts in semantic search\n",
    "**Masked Language Modeling**: The type of language modeling that we use when we are doing semantic search may seem confusing because it is unlike the modeling we have done in other notebooks. That said, it is more similar that it might seem. As we will see, these models which we use for this task take in a string (usually representing a sentence or paragraph) and output a vector of numbers. Unlike other forms of artificial intelligence, these models do not produce more text or images, rather they tell us the way they interpret language. The vectors and matrices that these models produce (called embeddings) represent how this model understands the text we give it. In training, as opposed to predicting the next token, they are given a full sentence with a random assortment of words in it masked with a special token. The model then has to guess at these masked words. This type of training gives the models an internal sense of semantic meaning that is more accurate to human understanding than predicting the next word in a sequence of words.\n",
    "\n",
    "**Dot Product**\n",
    "Once we have generated embeddings for our source documents and our query string, we need some way of comparing them. We would like a function that took in a vector and a matrix of specific sizes and return how similar each row of the matrix is to the vector. Thankfully, in linear algebra, this exact function exists. It is called the \"dot product\" (we will be using the \"scaled dot product\"). Given a vector, $V$, of size (1, N) and a matrix, $M$, of (M, N), $V \\cdot M^{T}$ will return a row vector if size (M, 1). Each element of this new vector will be a score for -1 to 1 which represents how similar $V$ was to a row in $M$. More details to follow.\n"
   ]
  },
  {
   "cell_type": "markdown",
   "metadata": {},
   "source": [
    "## Data and model prep"
   ]
  },
  {
   "cell_type": "code",
   "execution_count": null,
   "metadata": {},
   "outputs": [],
   "source": [
    "# imports\n",
    "import pandas as pd\n",
    "import torch\n",
    "from sentence_transformers import SentenceTransformer\n",
    "from sklearn.decomposition import PCA\n",
    "import re\n",
    "import nltk\n",
    "\n",
    "nltk.download(\"punkt_tab\")\n",
    "import plotly.express as px\n",
    "import plotly.graph_objects as go\n",
    "from llama_cpp import Llama\n",
    "from pprint import pprint"
   ]
  },
  {
   "cell_type": "code",
   "execution_count": null,
   "metadata": {},
   "outputs": [],
   "source": [
    "# loading our embedding model\n",
    "model = SentenceTransformer(\"BAAI/bge-m3\", trust_remote_code=True)"
   ]
  },
  {
   "cell_type": "code",
   "execution_count": null,
   "metadata": {},
   "outputs": [],
   "source": [
    "df = pd.read_csv(\"daf.csv\")\n",
    "df  # our data"
   ]
  },
  {
   "cell_type": "code",
   "execution_count": null,
   "metadata": {},
   "outputs": [],
   "source": [
    "df = df.drop(\"footnotes\", axis=1)\n",
    "df[\"sentences\"] = df[\"text\"].apply(nltk.sent_tokenize)\n",
    "sentences = df.explode(\"sentences\")\n",
    "mask = sentences[\"sentences\"].apply(\n",
    "    lambda x: len(x) < 25\n",
    ")  # removing all short sentences\n",
    "sentences = sentences[~mask]"
   ]
  },
  {
   "cell_type": "code",
   "execution_count": null,
   "metadata": {},
   "outputs": [],
   "source": [
    "sentences"
   ]
  },
  {
   "cell_type": "markdown",
   "metadata": {},
   "source": [
    "Below we begin a process called 'embedding', where we take our individual sub-documents (in this case each sentence from the *Decline and Fall*) and pass them through our embedding model. As mentioned above, this model is trained to output a representation of the given strings in multi-dimensional space in the form of vectors. When we give a model like this multiple sentences to embed, then it outputs multiple vectors all stacked on top of each other. This vertical arrangement of row vectors is also called a matrix and in this case has the shape: number of inputs x the model's hidden state dimension (this number is created by the model itself in training and we have no control over it)."
   ]
  },
  {
   "cell_type": "code",
   "execution_count": null,
   "metadata": {},
   "outputs": [],
   "source": [
    "embeddings = model.encode(\n",
    "    sentences.sentences.to_list(),  # our sentences\n",
    "    batch_size=64,  # high batch size = faster embedding, more VRAM\n",
    "    show_progress_bar=True,\n",
    "    device=\"cuda\",\n",
    "    normalize_embeddings=True,  # divides embeddings by their norm, centering the distribution at zero with a variance close to one\n",
    ")"
   ]
  },
  {
   "cell_type": "code",
   "execution_count": null,
   "metadata": {},
   "outputs": [],
   "source": [
    "embeddings.shape  # number of documents x the model's hidden state dimension."
   ]
  },
  {
   "cell_type": "code",
   "execution_count": null,
   "metadata": {},
   "outputs": [],
   "source": [
    "embeddings[0]  # single vector representing the first sentence in our list"
   ]
  },
  {
   "cell_type": "code",
   "execution_count": null,
   "metadata": {},
   "outputs": [],
   "source": [
    "embeddings[\n",
    "    0\n",
    "].shape  # an embedding is a single vector of the size of the model's hidden state"
   ]
  },
  {
   "cell_type": "markdown",
   "metadata": {},
   "source": [
    "## Digression: Visualizing Embeddings\n",
    "\n",
    "To build a better intuition for what embeddings are and how they work, we will see how we can use some simple data visualization techniques to see what these embeddings are telling us about the underlying data."
   ]
  },
  {
   "cell_type": "code",
   "execution_count": null,
   "metadata": {},
   "outputs": [],
   "source": [
    "# using PCA to decompose our 1024 long vectors to 2\n",
    "pca = PCA(n_components=2)\n",
    "pca.fit(embeddings)\n",
    "X = pca.transform(embeddings)\n",
    "X.shape  # 7880, 1024 -> 7880, 2"
   ]
  },
  {
   "cell_type": "code",
   "execution_count": null,
   "metadata": {},
   "outputs": [],
   "source": [
    "# making a dataframe to visualize the embeddings with the original sentences\n",
    "plotting = pd.DataFrame(\n",
    "    {\n",
    "        \"x\": X[:, 0],\n",
    "        \"y\": X[:, 1],\n",
    "        \"title\": sentences.title,\n",
    "        \"sentence\": sentences.sentences,\n",
    "    }\n",
    ")\n",
    "plotting[\"sentence\"] = (\n",
    "    plotting[\"sentence\"].str.wrap(100).apply(lambda x: x.replace(\"\\n\", \"<br>\"))\n",
    ")"
   ]
  },
  {
   "cell_type": "code",
   "execution_count": null,
   "metadata": {},
   "outputs": [],
   "source": [
    "fig = px.scatter(plotting, x=\"x\", y=\"y\", hover_data=\"sentence\")\n",
    "fig.show()"
   ]
  },
  {
   "cell_type": "markdown",
   "metadata": {},
   "source": [
    "In the scatter plot above, each dot represents a single embedding, which represents a single sentence. As a result, similar sentences tend (though not always) to get grouped together. This created clusters and subclusters of sentences which are similar. This internal structure of the embeddings will help us conduct information retrieval."
   ]
  },
  {
   "cell_type": "markdown",
   "metadata": {},
   "source": [
    "## Query-based retrieval\n",
    "\n",
    "Now that we have some intuition on how embeddings are working, we can put them to test with a sample query.\n",
    "\n",
    "Below we will use an extra string called `retrieval_instruction`. Often when we are taking in a query from the user, it will be mmuch shorted than the typical length of the documents in our sentence list. This extra string that we prepend to the user query makes the user query more comparable to the documents in our embeddings."
   ]
  },
  {
   "cell_type": "code",
   "execution_count": null,
   "metadata": {},
   "outputs": [],
   "source": [
    "retrieval_instruction = \"Represent this sentence for searching relevant passages: \"\n",
    "query = \"Who were the Goths\"\n",
    "query_embedding = model.encode(\n",
    "    retrieval_instruction + query, device=\"cuda\", normalize_embeddings=True\n",
    ")"
   ]
  },
  {
   "cell_type": "code",
   "execution_count": null,
   "metadata": {},
   "outputs": [],
   "source": [
    "query_embedding.shape  # just like a single embedding from above"
   ]
  },
  {
   "cell_type": "code",
   "execution_count": null,
   "metadata": {},
   "outputs": [],
   "source": [
    "# relevancy measure: dot product\n",
    "sim_vector = (\n",
    "    query_embedding @ embeddings.T\n",
    ")  # (m, n) X (n, o) = (m, o), in our case: 1, 1024 X 1024, 7880\n",
    "sim_vector.shape  # 1, 7880, this vector is made of similarity scores between the sentences in our original list of sentences and the query"
   ]
  },
  {
   "cell_type": "code",
   "execution_count": null,
   "metadata": {},
   "outputs": [],
   "source": [
    "# argsort sorts the array by index\n",
    "sim_vector.argsort()"
   ]
  },
  {
   "cell_type": "code",
   "execution_count": null,
   "metadata": {},
   "outputs": [],
   "source": [
    "sim_vector.argsort()[::-1]  # reverses array"
   ]
  },
  {
   "cell_type": "code",
   "execution_count": null,
   "metadata": {},
   "outputs": [],
   "source": [
    "k = 20\n",
    "rel_idx = sim_vector.argsort()[::-1][:k]  # selects top k indices from the array\n",
    "rel_idx"
   ]
  },
  {
   "cell_type": "code",
   "execution_count": null,
   "metadata": {},
   "outputs": [],
   "source": [
    "rel_chunks = [\n",
    "    sentences.sentences.to_list()[i] for i in rel_idx\n",
    "]  # get back our sentences\n",
    "rel_chunks  # read through these to verify that we're on the right track"
   ]
  },
  {
   "cell_type": "markdown",
   "metadata": {},
   "source": [
    "## Retrieval Augmented Generation (RAG)\n",
    "\n",
    "Semantic search is interesting and useful by itself, but recently it has taken on a new importance. Users of modern AI systems are always seeking new away to condition AI output on relevant data. Semantic search offers a good way of dealing with this problem and thus constitutes the first phase in a process called Retrieval Augmented Generation or RAG, where first we use semantic search to get relevant documents and then pass those relevant documents to an AI in a prompt. Below is a quick example of doing so."
   ]
  },
  {
   "cell_type": "code",
   "execution_count": null,
   "metadata": {},
   "outputs": [],
   "source": [
    "# loading our LLM\n",
    "llm = Llama.from_pretrained(\n",
    "    repo_id=\"Qwen/Qwen2-7B-Instruct-GGUF\",\n",
    "    filename=\"*q4_0.gguf\",\n",
    "    verbose=True,\n",
    "    n_gpu=-1,\n",
    "    n_ctx=3000,\n",
    ")"
   ]
  },
  {
   "cell_type": "code",
   "execution_count": null,
   "metadata": {},
   "outputs": [],
   "source": [
    "# RAG prompt, feel free to change and see the differences\n",
    "base_prompt = \"\"\"\n",
    "# Question answering task\n",
    "You are a helpful AI assistant that is skilled at answering user questions based on a given context.\n",
    "\n",
    "## User question\n",
    "{question}\n",
    "\n",
    "## Context\n",
    "{context}\n",
    "\"\"\".strip()\n",
    "\n",
    "message = [\n",
    "    {\n",
    "        \"role\": \"user\",\n",
    "        \"content\": base_prompt.format(\n",
    "            question=query,  # our query from above\n",
    "            context=\"\\n\".join(rel_chunks),  # relevant chunks\n",
    "        ),\n",
    "    }\n",
    "]"
   ]
  },
  {
   "cell_type": "code",
   "execution_count": null,
   "metadata": {},
   "outputs": [],
   "source": [
    "# may take some time (~5-10 minutes)\n",
    "text = llm.create_chat_completion(message, max_tokens=-1)"
   ]
  },
  {
   "cell_type": "code",
   "execution_count": null,
   "metadata": {},
   "outputs": [],
   "source": [
    "pprint(text[\"choices\"][0][\"message\"][\"content\"])  # output"
   ]
  },
  {
   "cell_type": "markdown",
   "metadata": {},
   "source": [
    "## Conclusion\n",
    "\n",
    "In this notebook, we have begun an exploration of embeddings, but there is much more to understand. In future lessons, we'll see other ways to use document-level embeddings and train our own embedding model for languages other than English. If you are interested in exploring more, I would check out the documentation of the package we used to load the embedding model: [sBERT](https://www.sbert.net/). They have a lot of good articles on semantic search and other applications."
   ]
  }
 ],
 "metadata": {
  "accelerator": "GPU",
  "colab": {
   "gpuType": "T4",
   "provenance": []
  },
  "kernelspec": {
   "display_name": "Python 3",
   "name": "python3"
  },
  "language_info": {
   "name": "python"
  }
 },
 "nbformat": 4,
 "nbformat_minor": 0
}
